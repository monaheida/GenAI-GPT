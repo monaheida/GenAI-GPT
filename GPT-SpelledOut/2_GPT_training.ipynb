{
  "nbformat": 4,
  "nbformat_minor": 0,
  "metadata": {
    "colab": {
      "provenance": []
    },
    "kernelspec": {
      "name": "python3",
      "display_name": "Python 3"
    },
    "language_info": {
      "name": "python"
    }
  },
  "cells": [
    {
      "cell_type": "code",
      "execution_count": 1,
      "metadata": {
        "colab": {
          "base_uri": "https://localhost:8080/"
        },
        "id": "N6KJmfYKoyAr",
        "outputId": "b0f454e3-04d1-42cb-cddd-58643f161a22"
      },
      "outputs": [
        {
          "output_type": "execute_result",
          "data": {
            "text/plain": [
              "<torch._C.Generator at 0x7876c871da10>"
            ]
          },
          "metadata": {},
          "execution_count": 1
        }
      ],
      "source": [
        "import torch\n",
        "import torch.nn as nn\n",
        "from torch.nn import functional as F\n",
        "torch.manual_seed(1337)"
      ]
    },
    {
      "cell_type": "code",
      "source": [
        "!wget https://raw.githubusercontent.com/karpathy/char-rnn/master/data/tinyshakespeare/input.txt"
      ],
      "metadata": {
        "colab": {
          "base_uri": "https://localhost:8080/"
        },
        "id": "aesYPZ4orYcS",
        "outputId": "3eba33ba-9a49-4e40-af82-672cb7ee3ae8"
      },
      "execution_count": 3,
      "outputs": [
        {
          "output_type": "stream",
          "name": "stdout",
          "text": [
            "--2024-03-25 12:54:52--  https://raw.githubusercontent.com/karpathy/char-rnn/master/data/tinyshakespeare/input.txt\n",
            "Resolving raw.githubusercontent.com (raw.githubusercontent.com)... 185.199.111.133, 185.199.109.133, 185.199.110.133, ...\n",
            "Connecting to raw.githubusercontent.com (raw.githubusercontent.com)|185.199.111.133|:443... connected.\n",
            "HTTP request sent, awaiting response... 200 OK\n",
            "Length: 1115394 (1.1M) [text/plain]\n",
            "Saving to: ‘input.txt’\n",
            "\n",
            "\rinput.txt             0%[                    ]       0  --.-KB/s               \rinput.txt           100%[===================>]   1.06M  --.-KB/s    in 0.01s   \n",
            "\n",
            "2024-03-25 12:54:52 (108 MB/s) - ‘input.txt’ saved [1115394/1115394]\n",
            "\n"
          ]
        }
      ]
    },
    {
      "cell_type": "code",
      "source": [
        "with open('./input.txt', 'r', encoding='utf-8') as f:\n",
        "    text = f.read()\n",
        "\n",
        "print(f\"The dataset has {len(text)} tokens in total.\")\n",
        "\n",
        "# all the unique characters in this text\n",
        "chars = sorted(list(set(text)))\n",
        "vocab_size = len(chars)\n",
        "print(f\"The total possible tokens are {vocab_size}: {chars}\")"
      ],
      "metadata": {
        "colab": {
          "base_uri": "https://localhost:8080/"
        },
        "id": "uHWR5EDIrIaQ",
        "outputId": "e1d3d5e6-e9bd-4306-be26-55a49b8c7cbd"
      },
      "execution_count": 4,
      "outputs": [
        {
          "output_type": "stream",
          "name": "stdout",
          "text": [
            "The dataset has 1115394 tokens in total.\n",
            "The total possible tokens are 65: ['\\n', ' ', '!', '$', '&', \"'\", ',', '-', '.', '3', ':', ';', '?', 'A', 'B', 'C', 'D', 'E', 'F', 'G', 'H', 'I', 'J', 'K', 'L', 'M', 'N', 'O', 'P', 'Q', 'R', 'S', 'T', 'U', 'V', 'W', 'X', 'Y', 'Z', 'a', 'b', 'c', 'd', 'e', 'f', 'g', 'h', 'i', 'j', 'k', 'l', 'm', 'n', 'o', 'p', 'q', 'r', 's', 't', 'u', 'v', 'w', 'x', 'y', 'z']\n"
          ]
        }
      ]
    },
    {
      "cell_type": "code",
      "source": [
        "# Creating the tokenizer\n",
        "char_to_number = {ch:i for i,ch in enumerate(chars)}\n",
        "number_to_char = {i:ch for i,ch in enumerate(chars)}\n",
        "\n",
        "# encoder: take a string, output a list of integers\n",
        "encode = lambda s: [char_to_number[c] for c in s]\n",
        "\n",
        "# decoder: take a list of integers, output a string\n",
        "decode = lambda l: ''.join([number_to_char[i] for i in l])"
      ],
      "metadata": {
        "id": "rXf5uiFFrg5a"
      },
      "execution_count": 5,
      "outputs": []
    },
    {
      "cell_type": "code",
      "source": [
        "data = torch.tensor(encode(text), dtype=torch.long)\n",
        "n = int(0.9 * len(data))\n",
        "train_data = data[:n]\n",
        "val_data = data[n:]"
      ],
      "metadata": {
        "id": "VzNTzC7Krp_K"
      },
      "execution_count": 6,
      "outputs": []
    },
    {
      "cell_type": "code",
      "source": [
        "class BigramLM(nn.Module):\n",
        "    \"\"\"\n",
        "    The Final BigramLM model which had and does the following:\n",
        "\n",
        "    # Has:\n",
        "    1. Token embedding layer\n",
        "    2. Position embedding layer\n",
        "    3. Nx Blocks which has multihead attentions and feed-forward\n",
        "    4. Finally the LM-head\n",
        "    5. The shapes written in comments\n",
        "\n",
        "    # Does:\n",
        "    1. Takes the input which will be in the B, T format\n",
        "    2. Converts them into B, T, C (starting with the Token embedding layer)\n",
        "\n",
        "    \"\"\"\n",
        "\n",
        "    def __init__(self):\n",
        "        super().__init__()\n",
        "        self.embedding_table = nn.Embedding(vocab_size, n_embd)\n",
        "        self.positions_embeddings = nn.Embedding(block_size, n_embd)\n",
        "        self.blocks = nn.Sequential(\n",
        "            *[Block(n_embd, n_head=n_head) for _ in range(n_layers)]\n",
        "        )\n",
        "        self.ln_f = nn.LayerNorm(n_embd)\n",
        "        self.lm_head = nn.Linear(n_embd, vocab_size)\n",
        "\n",
        "\n",
        "    def forward(self, idx, targets=None):\n",
        "        B, T = idx.shape\n",
        "        tok_emb = self.embedding_table(idx)\n",
        "        positions_emb = self.positions_embeddings(torch.arange(T, device=device))\n",
        "        x = tok_emb + positions_emb\n",
        "        x = self.blocks(x)\n",
        "        x = self.ln_f(x)\n",
        "        logits = self.lm_head(x)\n",
        "\n",
        "        if targets is None:\n",
        "            loss=None\n",
        "        else:\n",
        "            B, T, C = logits.shape\n",
        "            logits = logits.view(B*T, C)\n",
        "            targets = targets.view(B*T)\n",
        "            loss = F.cross_entropy(logits, targets)\n",
        "        return logits, loss\n",
        "\n",
        "\n",
        "    def generate(self, idx, max_new_tokens):\n",
        "        for _ in range(max_new_tokens):\n",
        "            idx_cond = idx[:, -block_size:]\n",
        "            logits, loss = self(idx_cond)\n",
        "            logits = logits[:, -1, :]\n",
        "            probs = F.softmax(logits, dim=-1)\n",
        "            next_idx = torch.multinomial(probs, num_samples=1)\n",
        "            idx = torch.cat((idx, next_idx), dim=1)\n",
        "\n",
        "        return idx"
      ],
      "metadata": {
        "id": "rZvPv1W6rwBn"
      },
      "execution_count": 7,
      "outputs": []
    },
    {
      "cell_type": "markdown",
      "source": [
        "## Decoder body"
      ],
      "metadata": {
        "id": "S4uFAZbWsLKF"
      }
    },
    {
      "cell_type": "code",
      "source": [
        "class Block(nn.Module):\n",
        "    \"\"\"\n",
        "    The block basically is the collection of self attention layers (multi) and\n",
        "    the feed forward layers with residual connections and the layer norm layers.\n",
        "\n",
        "    All we want to do is to isolate them so that we can make as many as we want\n",
        "    and get better results!\n",
        "    \"\"\"\n",
        "\n",
        "    def __init__(self, n_embd, n_head):\n",
        "        super().__init__()\n",
        "        head_size = n_embd // n_head\n",
        "        self.sa_heads = MultiHeadAttention(n_head, head_size)\n",
        "        self.add_norm_1 = nn.LayerNorm(n_embd)\n",
        "        self.ffwd = FeedForward(n_embd)\n",
        "        self.add_norm_2 = nn.LayerNorm(n_embd)\n",
        "\n",
        "\n",
        "    def forward(self, x):\n",
        "        x = x + self.sa_heads(self.add_norm_1(x))  # B, T, head_size\n",
        "        x = x + self.ffwd(self.add_norm_2(x))\n",
        "        return x"
      ],
      "metadata": {
        "id": "6x9YgULLsG6d"
      },
      "execution_count": 8,
      "outputs": []
    },
    {
      "cell_type": "code",
      "source": [
        "class MultiHeadAttention(nn.Module):\n",
        "    def __init__(self, num_heads, head_size):\n",
        "        super().__init__()\n",
        "        self.heads = nn.ModuleList([Head(head_size) for _ in range(num_heads)])\n",
        "        self.proj = nn.Linear(n_embd, n_embd)\n",
        "        self.dropout = nn.Dropout(dropout)\n",
        "    def forward(self, x):\n",
        "        out = torch.cat([h(x) for h in self.heads], dim=-1)\n",
        "        out = self.dropout(self.proj(out))\n",
        "        return out"
      ],
      "metadata": {
        "id": "IA0WWM5YsVuG"
      },
      "execution_count": 9,
      "outputs": []
    },
    {
      "cell_type": "code",
      "source": [
        "class Head(nn.Module):\n",
        "    \"\"\"\n",
        "    This class will create the Q, K, V vectors\n",
        "    and the register_buffer to create the mask.\n",
        "\n",
        "    Then on the `forward` it will pass the vectors in the\n",
        "    Q, K, V and give the `out`.\n",
        "    \"\"\"\n",
        "\n",
        "    def __init__(self, head_size):\n",
        "        super().__init__()\n",
        "        self.query = nn.Linear(n_embd, head_size, bias=False)\n",
        "        self.key = nn.Linear(n_embd, head_size, bias=False)\n",
        "        self.value = nn.Linear(n_embd, head_size, bias=False)\n",
        "        self.register_buffer('tril', torch.tril(torch.ones(block_size, block_size, device=device)))\n",
        "\n",
        "        self.dropout = nn.Dropout(dropout) ###\n",
        "\n",
        "    def forward(self, x):\n",
        "        '''\n",
        "        `x` input which will be the positions.\n",
        "        The shape will be B, T, C meaning:\n",
        "        \"For each batch, there will be T tokens which will have positions encoded in C\n",
        "        space\"\n",
        "\n",
        "        '''\n",
        "        B, T, C = x.shape\n",
        "        q = self.query(x)\n",
        "        k = self.key(x)\n",
        "        v = self.value(x)\n",
        "\n",
        "        wei = q @ k.transpose(-2, -1) * C**-0.5 # the C**-0.5 is used to control the variance\n",
        "        wei = wei.masked_fill(self.tril[:T, :T] == 0, float(\"-inf\"))\n",
        "        wei = F.softmax(wei, dim=-1)\n",
        "\n",
        "        wei = self.dropout(wei)\n",
        "        out = wei @ v\n",
        "        return out"
      ],
      "metadata": {
        "id": "o4Rq08mXshc5"
      },
      "execution_count": 11,
      "outputs": []
    },
    {
      "cell_type": "code",
      "source": [
        "class FeedForward(nn.Module):\n",
        "    def __init__(self, n_embd):\n",
        "        super().__init__()\n",
        "        self.net = nn.Sequential(\n",
        "            nn.Linear(n_embd, 4*n_embd),\n",
        "            nn.ReLU(),\n",
        "            nn.Linear(4*n_embd, n_embd),\n",
        "            nn.Dropout(dropout) ###\n",
        "        )\n",
        "\n",
        "    def forward(self, x):\n",
        "        return self.net(x)"
      ],
      "metadata": {
        "id": "z6hoaVOttM4k"
      },
      "execution_count": 12,
      "outputs": []
    },
    {
      "cell_type": "code",
      "source": [
        "def get_batch(split):\n",
        "    data = train_data if split == 'train' else val_data\n",
        "    ix = torch.randint(len(data) - block_size, (batch_size,))\n",
        "    x = torch.stack([data[i:i+block_size] for i in ix])\n",
        "    y = torch.stack([data[i+1:i+block_size+1] for i in ix])\n",
        "    x, y = x.to(device), y.to(device)\n",
        "    return x, y"
      ],
      "metadata": {
        "id": "zq5annsMtQrQ"
      },
      "execution_count": 13,
      "outputs": []
    },
    {
      "cell_type": "code",
      "source": [
        "@torch.no_grad()\n",
        "def estimate_loss():\n",
        "    '''\n",
        "    This function takes the random samples from the dataset (based on the batch size)\n",
        "    for `eval_iter` times. Records loss and takes the mean loss. And reports back.\n",
        "\n",
        "    Which means, if we have the `eval_iter = 10` and `batch_size=32` then it will take\n",
        "    32 random samples from training data and then validation data for 10 times and takes\n",
        "    the means of these 10 losses.\n",
        "    '''\n",
        "    out = {}\n",
        "\n",
        "    model.eval()\n",
        "\n",
        "    for split in ['train', 'val']:\n",
        "        losses = torch.zeros(eval_iters)\n",
        "        for k in range(eval_iters):\n",
        "            X, Y = get_batch(split)\n",
        "            logits, loss = model(X, Y)\n",
        "            losses[k] = loss.item()\n",
        "        out[split] = losses.mean()\n",
        "\n",
        "    model.train()\n",
        "    return out"
      ],
      "metadata": {
        "id": "KL5P19EAtUOl"
      },
      "execution_count": 15,
      "outputs": []
    },
    {
      "cell_type": "code",
      "source": [
        "batch_size = 64\n",
        "block_size = 256\n",
        "max_iters = 5000\n",
        "\n",
        "eval_interval = 500  # after how many steps we want to print the loss?\n",
        "learning_rate = 3e-4\n",
        "device = 'cuda' if torch.cuda.is_available() else 'cpu'\n",
        "\n",
        "eval_iters = 200    # when printing the loss, how many samples to consider for validation?\n",
        "n_embd = 384\n",
        "n_head = 6          # `n` multi heads for the self-attention\n",
        "n_layers = 6        # `n` for `Nx` which shows how many blocks to use\n",
        "dropout = 0.2"
      ],
      "metadata": {
        "id": "_5JL4DuntnoQ"
      },
      "execution_count": 17,
      "outputs": []
    },
    {
      "cell_type": "code",
      "source": [
        "model = BigramLM()\n",
        "model = model.to(device)\n",
        "optimizer = torch.optim.AdamW(model.parameters(), lr=learning_rate)"
      ],
      "metadata": {
        "id": "_BM0Orivt-lC"
      },
      "execution_count": 18,
      "outputs": []
    },
    {
      "cell_type": "code",
      "source": [
        "sum(len(i) for i in model.parameters())"
      ],
      "metadata": {
        "colab": {
          "base_uri": "https://localhost:8080/"
        },
        "id": "X0enUAZHt_Vb",
        "outputId": "4c23b8a5-8602-4876-d3d6-c42b7d56a503"
      },
      "execution_count": 19,
      "outputs": [
        {
          "output_type": "execute_result",
          "data": {
            "text/plain": [
              "44995"
            ]
          },
          "metadata": {},
          "execution_count": 19
        }
      ]
    },
    {
      "cell_type": "code",
      "source": [
        "print(model)"
      ],
      "metadata": {
        "colab": {
          "base_uri": "https://localhost:8080/"
        },
        "id": "1zJ51Xs6uDUo",
        "outputId": "3869b155-e29b-4618-9a82-b7b0d4b09e4e"
      },
      "execution_count": 20,
      "outputs": [
        {
          "output_type": "stream",
          "name": "stdout",
          "text": [
            "BigramLM(\n",
            "  (embedding_table): Embedding(65, 384)\n",
            "  (positions_embeddings): Embedding(256, 384)\n",
            "  (blocks): Sequential(\n",
            "    (0): Block(\n",
            "      (sa_heads): MultiHeadAttention(\n",
            "        (heads): ModuleList(\n",
            "          (0-5): 6 x Head(\n",
            "            (query): Linear(in_features=384, out_features=64, bias=False)\n",
            "            (key): Linear(in_features=384, out_features=64, bias=False)\n",
            "            (value): Linear(in_features=384, out_features=64, bias=False)\n",
            "            (dropout): Dropout(p=0.2, inplace=False)\n",
            "          )\n",
            "        )\n",
            "        (proj): Linear(in_features=384, out_features=384, bias=True)\n",
            "        (dropout): Dropout(p=0.2, inplace=False)\n",
            "      )\n",
            "      (add_norm_1): LayerNorm((384,), eps=1e-05, elementwise_affine=True)\n",
            "      (ffwd): FeedForward(\n",
            "        (net): Sequential(\n",
            "          (0): Linear(in_features=384, out_features=1536, bias=True)\n",
            "          (1): ReLU()\n",
            "          (2): Linear(in_features=1536, out_features=384, bias=True)\n",
            "          (3): Dropout(p=0.2, inplace=False)\n",
            "        )\n",
            "      )\n",
            "      (add_norm_2): LayerNorm((384,), eps=1e-05, elementwise_affine=True)\n",
            "    )\n",
            "    (1): Block(\n",
            "      (sa_heads): MultiHeadAttention(\n",
            "        (heads): ModuleList(\n",
            "          (0-5): 6 x Head(\n",
            "            (query): Linear(in_features=384, out_features=64, bias=False)\n",
            "            (key): Linear(in_features=384, out_features=64, bias=False)\n",
            "            (value): Linear(in_features=384, out_features=64, bias=False)\n",
            "            (dropout): Dropout(p=0.2, inplace=False)\n",
            "          )\n",
            "        )\n",
            "        (proj): Linear(in_features=384, out_features=384, bias=True)\n",
            "        (dropout): Dropout(p=0.2, inplace=False)\n",
            "      )\n",
            "      (add_norm_1): LayerNorm((384,), eps=1e-05, elementwise_affine=True)\n",
            "      (ffwd): FeedForward(\n",
            "        (net): Sequential(\n",
            "          (0): Linear(in_features=384, out_features=1536, bias=True)\n",
            "          (1): ReLU()\n",
            "          (2): Linear(in_features=1536, out_features=384, bias=True)\n",
            "          (3): Dropout(p=0.2, inplace=False)\n",
            "        )\n",
            "      )\n",
            "      (add_norm_2): LayerNorm((384,), eps=1e-05, elementwise_affine=True)\n",
            "    )\n",
            "    (2): Block(\n",
            "      (sa_heads): MultiHeadAttention(\n",
            "        (heads): ModuleList(\n",
            "          (0-5): 6 x Head(\n",
            "            (query): Linear(in_features=384, out_features=64, bias=False)\n",
            "            (key): Linear(in_features=384, out_features=64, bias=False)\n",
            "            (value): Linear(in_features=384, out_features=64, bias=False)\n",
            "            (dropout): Dropout(p=0.2, inplace=False)\n",
            "          )\n",
            "        )\n",
            "        (proj): Linear(in_features=384, out_features=384, bias=True)\n",
            "        (dropout): Dropout(p=0.2, inplace=False)\n",
            "      )\n",
            "      (add_norm_1): LayerNorm((384,), eps=1e-05, elementwise_affine=True)\n",
            "      (ffwd): FeedForward(\n",
            "        (net): Sequential(\n",
            "          (0): Linear(in_features=384, out_features=1536, bias=True)\n",
            "          (1): ReLU()\n",
            "          (2): Linear(in_features=1536, out_features=384, bias=True)\n",
            "          (3): Dropout(p=0.2, inplace=False)\n",
            "        )\n",
            "      )\n",
            "      (add_norm_2): LayerNorm((384,), eps=1e-05, elementwise_affine=True)\n",
            "    )\n",
            "    (3): Block(\n",
            "      (sa_heads): MultiHeadAttention(\n",
            "        (heads): ModuleList(\n",
            "          (0-5): 6 x Head(\n",
            "            (query): Linear(in_features=384, out_features=64, bias=False)\n",
            "            (key): Linear(in_features=384, out_features=64, bias=False)\n",
            "            (value): Linear(in_features=384, out_features=64, bias=False)\n",
            "            (dropout): Dropout(p=0.2, inplace=False)\n",
            "          )\n",
            "        )\n",
            "        (proj): Linear(in_features=384, out_features=384, bias=True)\n",
            "        (dropout): Dropout(p=0.2, inplace=False)\n",
            "      )\n",
            "      (add_norm_1): LayerNorm((384,), eps=1e-05, elementwise_affine=True)\n",
            "      (ffwd): FeedForward(\n",
            "        (net): Sequential(\n",
            "          (0): Linear(in_features=384, out_features=1536, bias=True)\n",
            "          (1): ReLU()\n",
            "          (2): Linear(in_features=1536, out_features=384, bias=True)\n",
            "          (3): Dropout(p=0.2, inplace=False)\n",
            "        )\n",
            "      )\n",
            "      (add_norm_2): LayerNorm((384,), eps=1e-05, elementwise_affine=True)\n",
            "    )\n",
            "    (4): Block(\n",
            "      (sa_heads): MultiHeadAttention(\n",
            "        (heads): ModuleList(\n",
            "          (0-5): 6 x Head(\n",
            "            (query): Linear(in_features=384, out_features=64, bias=False)\n",
            "            (key): Linear(in_features=384, out_features=64, bias=False)\n",
            "            (value): Linear(in_features=384, out_features=64, bias=False)\n",
            "            (dropout): Dropout(p=0.2, inplace=False)\n",
            "          )\n",
            "        )\n",
            "        (proj): Linear(in_features=384, out_features=384, bias=True)\n",
            "        (dropout): Dropout(p=0.2, inplace=False)\n",
            "      )\n",
            "      (add_norm_1): LayerNorm((384,), eps=1e-05, elementwise_affine=True)\n",
            "      (ffwd): FeedForward(\n",
            "        (net): Sequential(\n",
            "          (0): Linear(in_features=384, out_features=1536, bias=True)\n",
            "          (1): ReLU()\n",
            "          (2): Linear(in_features=1536, out_features=384, bias=True)\n",
            "          (3): Dropout(p=0.2, inplace=False)\n",
            "        )\n",
            "      )\n",
            "      (add_norm_2): LayerNorm((384,), eps=1e-05, elementwise_affine=True)\n",
            "    )\n",
            "    (5): Block(\n",
            "      (sa_heads): MultiHeadAttention(\n",
            "        (heads): ModuleList(\n",
            "          (0-5): 6 x Head(\n",
            "            (query): Linear(in_features=384, out_features=64, bias=False)\n",
            "            (key): Linear(in_features=384, out_features=64, bias=False)\n",
            "            (value): Linear(in_features=384, out_features=64, bias=False)\n",
            "            (dropout): Dropout(p=0.2, inplace=False)\n",
            "          )\n",
            "        )\n",
            "        (proj): Linear(in_features=384, out_features=384, bias=True)\n",
            "        (dropout): Dropout(p=0.2, inplace=False)\n",
            "      )\n",
            "      (add_norm_1): LayerNorm((384,), eps=1e-05, elementwise_affine=True)\n",
            "      (ffwd): FeedForward(\n",
            "        (net): Sequential(\n",
            "          (0): Linear(in_features=384, out_features=1536, bias=True)\n",
            "          (1): ReLU()\n",
            "          (2): Linear(in_features=1536, out_features=384, bias=True)\n",
            "          (3): Dropout(p=0.2, inplace=False)\n",
            "        )\n",
            "      )\n",
            "      (add_norm_2): LayerNorm((384,), eps=1e-05, elementwise_affine=True)\n",
            "    )\n",
            "  )\n",
            "  (ln_f): LayerNorm((384,), eps=1e-05, elementwise_affine=True)\n",
            "  (lm_head): Linear(in_features=384, out_features=65, bias=True)\n",
            ")\n"
          ]
        }
      ]
    },
    {
      "cell_type": "code",
      "source": [
        "for step in range(max_iters): # increase number of steps for good results...\n",
        "\n",
        "    if step % 2 == 0:\n",
        "        losses = estimate_loss()\n",
        "        print(f\"[Step {step}]: Train Loss~{losses['train']:.4f}, Val Loss~{losses['val']:.4f}\")\n",
        "\n",
        "    # sample a batch of data\n",
        "    xb, yb = get_batch('train')\n",
        "\n",
        "    # evaluate the loss\n",
        "    logits, loss = model(xb, yb)\n",
        "    optimizer.zero_grad(set_to_none=True)\n",
        "    loss.backward()\n",
        "    optimizer.step()"
      ],
      "metadata": {
        "colab": {
          "base_uri": "https://localhost:8080/"
        },
        "id": "WCW6bqZUuG4x",
        "outputId": "0e294b4f-a990-46d0-8ec3-ebeb41e0007e"
      },
      "execution_count": null,
      "outputs": [
        {
          "metadata": {
            "tags": null
          },
          "name": "stdout",
          "output_type": "stream",
          "text": [
            "[Step 0]: Train Loss~4.2849, Val Loss~4.2824\n",
            "[Step 2]: Train Loss~3.3071, Val Loss~3.3379\n"
          ]
        }
      ]
    },
    {
      "cell_type": "code",
      "source": [
        "device = torch.device(\"cpu\")\n",
        "model = BigramLM()\n",
        "model.load_state_dict(torch.load(\"./ShakeGPT.zip\", map_location=torch.device('cpu')))\n",
        "model = model.to(device)"
      ],
      "metadata": {
        "id": "NaWLEQu8uWUi"
      },
      "execution_count": null,
      "outputs": []
    },
    {
      "cell_type": "code",
      "source": [
        "output = decode(\n",
        "    model.generate(\n",
        "        idx = torch.zeros((1, 1),\n",
        "                          dtype=torch.long,\n",
        "                          device=device),\n",
        "        max_new_tokens=500)[0].tolist()\n",
        ")\n",
        "print(output)"
      ],
      "metadata": {
        "id": "xlFqXLauCfYG"
      },
      "execution_count": null,
      "outputs": []
    }
  ]
}